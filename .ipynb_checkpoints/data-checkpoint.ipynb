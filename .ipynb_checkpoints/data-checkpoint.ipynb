{
 "cells": [
  {
   "cell_type": "code",
   "execution_count": 142,
   "metadata": {},
   "outputs": [],
   "source": [
    "import os\n",
    "from tqdm import tqdm\n",
    "import pandas as pd\n",
    "import numpy as np\n",
    "import matplotlib.pyplot as plt\n",
    "from scipy.io import wavfile\n",
    "import librosa\n",
    "from python_speech_features import mfcc, logfbank\n",
    "%matplotlib inline"
   ]
  },
  {
   "cell_type": "code",
   "execution_count": 58,
   "metadata": {},
   "outputs": [],
   "source": [
    "\n",
    "#plot signals\n",
    "def plot_signals(signals):\n",
    "    fig, axes =plt.subplots(nrows =2, ncols=5,sharex=False,sharey=True,figsize=(20,5))\n",
    "    fig.suptitle(\"Time series\",size =16)\n",
    "    i =0\n",
    "    for x in range(2):\n",
    "        for y in range(5):\n",
    "            axes[x,y].set_title(list(signals.keys())[i]) \n",
    "            axes[x,y].plot(list(signals.values())[i])\n",
    "            i += 1\n",
    "    \n",
    "# plot fourier transformed signals    \n",
    "def plot_fft(fft):\n",
    "    fig, axes =plt.subplots(nrows =2, ncols=5,sharex=False,sharey=True,figsize=(20,5))\n",
    "    fig.suptitle(\"Fourier transforms\",size =16)\n",
    "    i =0\n",
    "    for x in range(2):\n",
    "        for y in range(5):\n",
    "            data = list(fft.values())[i]\n",
    "            Y,freq = data[0], data[1]\n",
    "            axes[x,y].set_title(list(fft.keys())[i]) \n",
    "            axes[x,y].plot(freq, Y)\n",
    "            i += 1\n",
    "    \n",
    "    \n",
    "def plot_fbank(fbank):\n",
    "    fig, axes =plt.subplots(nrows =2, ncols=5,sharex=False,sharey=True,figsize=(20,5))\n",
    "    fig.suptitle(\"Filter bank coefficients\",size =16)\n",
    "    i =0\n",
    "    for x in range(2):\n",
    "        for y in range(5):\n",
    "            axes[x,y].set_title(list(fbank.keys())[i]) \n",
    "            axes[x,y].imshow(list(fbank.values())[i],cmap='hot',interpolation='nearest')\n",
    "            i += 1\n",
    "            \n",
    "            \n",
    "            \n",
    "def plot_mfcc(mfccs):\n",
    "    fig, axes =plt.subplots(nrows =2, ncols=5,sharex=False,sharey=True,figsize=(20,5))\n",
    "    fig.suptitle(\"Mfccs\",size =16)\n",
    "    i =0\n",
    "    for x in range(2):\n",
    "        for y in range(5):\n",
    "            axes[x,y].set_title(list(mfccs.keys())[i]) \n",
    "            axes[x,y].imshow(list(mfccs.values())[i],cmap='hot',interpolation='nearest')\n",
    "            i += 1\n",
    "            "
   ]
  },
  {
   "cell_type": "code",
   "execution_count": null,
   "metadata": {},
   "outputs": [],
   "source": [
    "fft ={}\n",
    "fbank ={}\n",
    "signals ={}\n",
    "mfccs ={}\n",
    "\n",
    "def find_fft(signal, rate):\n",
    "    n = len(signal)\n",
    "    freq = np.fft.rfftfreq(n ,d =1/rate)\n",
    "    Y = np.abs(np.fft.rfft(signal)/n)\n",
    "    return (Y, freq)\n",
    "\n",
    "\n",
    "def envelope(y,rate, threshold):\n",
    "    masks =[]\n",
    "    y =pd.Series(y).apply(np.abs)\n",
    "    y_mean =y.rolling(window =int(rate/10), min_periods =1, center =True).mean()\n",
    "    for mean in y_mean:\n",
    "        if mean > threshold:\n",
    "            masks.append(True)\n",
    "        else:\n",
    "            masks.append(False)\n",
    "    return masks\n",
    "\n",
    "for f in tqdm(os.listdir('AllAudioWav')):\n",
    "    signal,rate =librosa.load('AllAudioWav/'+f,sr=2048)\n",
    "    print(signal)\n",
    "    mask =envelope(signal, rate,0.0005)\n",
    "    print(mask)\n",
    "    signal =signal[mask]\n",
    "    print(signal)\n",
    "    signals[f] = signal\n",
    "    f_transform =find_fft(signal,rate)\n",
    "    fft[f] =f_transform\n",
    "    bank =logfbank(signal[:rate], rate, nfilt  =26, nfft=51).T\n",
    "    fbank[f] =bank\n",
    "    mel =mfcc(signal[:rate], rate, numcep =13, nfilt=26, nfft =51).T\n",
    "    mfccs[f] = mel\n",
    "    \n",
    "\n",
    "if len(os.listdir('Clean')) == 0:\n",
    "    for f in tqdm(os.listdir('AllAudioWav')):\n",
    "        signal,rate =librosa.load('AllAudioWav/'+f,sr=256)\n",
    "        mask =envelope(signal, rate,0.0005)\n",
    "        wavfile.write(filename ='Clean/'+f, rate =rate, data=signal[mask])"
   ]
  },
  {
   "cell_type": "code",
   "execution_count": null,
   "metadata": {},
   "outputs": [],
   "source": [
    "                                                                                                                                                                                                                                                                                                                                                                                                                                                                                                                                                                                                                                                                                                                                                                                                                                                                                                                                                                                                                                                                                                                                                                                                                                                                                                                                                                                                                                                                                                                                                                                                                                                                                                                                                                                                                                                                                                                                                                                                                                                                                                                                                                                                                                                                                                                                                                                                                                                                                                                                                                                                                                                                                                                                                                                                                                                                                                                                                                                                                                                                                                                                                                                                                                                                                                                                                                                                                                                                                                                                                                                                                                                                                                                                                                                                                                                                                                                                                                                                                                                                                                                                                                                                                                                                                                                                                                                                                                                                                                                                                                                                                                                                                                                                                                                                                                                                                                                                                                                                                                                                                                                                                                                                                                                                                                                                                                                                                                                                                                                                                                                                                                                                                                                                                                                                                                                                                                                                                                                                                                                                                                                                                                                                                                                                                                                                                                                                                                                                                                                                                                                                                                                                                                                                                                                                                                                                                                                                                                                                                                                                                                                                                                                                                                                                                                                                                                                                                                                                                                                                                                                                                                                                                                                                                                                                                                                                                                                                                                                                                                                                                                                                                                                                                                                                                                                                                                                                                                                                                                                                                                                                                                                                                                                                                                                                                                                                                                                                                                                                                                                                                                                                                                                                                                                                                                                                                                                                                                                                                                                                                                                                                                                                                                                                                                                                                                                                                                                                                                                                                                                                                                                                                                                                                                                                                                                                                                                                                                                                                                                                                                                                                                                                                                                                                                                                                                                                                                                                                                                                                                                                                                                                                                                                                                                                                                                                                                                                                                                                                                                                                                                                                                                                                                                                                                                                                                                                                                                                                                                                                                                                                                                                                                                                                                                                                                                                                                                                                                                                                                                                                                                                                                                                                                                                                                                                                                                                                                                                                                                                                                                                                                                                                                                                                                                                                                                                                                                                                                                                                                                                                                                                                                                                                                                                                                                                                                                                                                                                                                                                                                                                                                                                                                                                                                                                                                                                                                                                                                                                                                                                                                                                                                                                                                                                                                                                                                                                                                                                                                                                                                                                                                                                                                                                                                                                                                                                                                                                                                                                                                                                                                                                                                                                                                                                                                                                                                                                                                                                                                                                                                                                                                                                                                                                                                                                                                                                                                                                                                                                                                                                                                                                                                                                                                                                                                                                                                                                                                                                                                                                                                                                                                                                                                                                                                                                                                                                                                                                                                                                                                                                                                                                                                                                                                                                                                                                                                                                                                                                                                                                                                                                                                                                                                                                                                                                                                                                                                                                                                                                                                                                                                                                                                                                                                                                                                                                                                                                                                                                                                                                                                                                                                                                                                                                                                                                                                                                                                                                                                                                                                                                                                                                                                                                                                                                                                                                                                                                                                                                                                                                                                                                                                                                                                                                                                                                                                                                                                                                                                                                                                                                                                                                                                                                                                                                                                                                                                                                                                                                                                                                                                                                                                                                                                                                                                                                                                                                                                                                                                                                                                                                                                                                                                                                                                                                                                                                                                                                                                                                                                                                                                                                                                                                                                                                                                                                                                                                                                                                                                                                                                                                                                                                                                                                                                                                                                                                                                                                                                                                                                                                                                                                                                                                                                                                                                                                                                                                                                                                                                                                                                                                                                                                                                                                                                                                                                                                                                                                                                                                                                                                                                                                                                                                                                                                                                                                                                                                                                                                                                                                                                                                                                                                                              "
   ]
  },
  {
   "cell_type": "code",
   "execution_count": null,
   "metadata": {},
   "outputs": [],
   "source": [
    "plot_signals(signals)\n",
    "plt.show()"
   ]
  },
  {
   "cell_type": "code",
   "execution_count": 59,
   "metadata": {},
   "outputs": [
    {
     "data": {
      "image/png": "[encoded data removed]",
      "text/plain": [
       "<Figure size 1440x360 with 10 Axes>"
      ]
     },
     "metadata": {
      "needs_background": "light"
     },
     "output_type": "display_data"
    }
   ],
   "source": [
    "plot_mfcc(mfccs)\n",
    "plt.show()"
   ]
  },
  {
   "cell_type": "code",
   "execution_count": null,
   "metadata": {
    "scrolled": false
   },
   "outputs": [],
   "source": [
    "plot_fbank(fbank)\n",
    "plt.show()"
   ]
  },
  {
   "cell_type": "code",
   "execution_count": null,
   "metadata": {},
   "outputs": [],
   "source": [
    "plot_fft(fft)\n",
    "plt.show()"
   ]
  },
  {
   "cell_type": "code",
   "execution_count": null,
   "metadata": {},
   "outputs": [],
   "source": [
    "import os\n",
    "from tqdm import tqdm\n",
    "import pandas as pd\n",
    "import numpy as np\n",
    "import matplotlib.pyplot as plt\n",
    "from scipy.io import wavfile\n",
    "import librosa\n",
    "from python_speech_features import mfcc, logfbank\n",
    "%matplotlib inline"
   ]
  },
  {
   "cell_type": "code",
   "execution_count": null,
   "metadata": {},
   "outputs": [],
   "source": [
    "df = pd.read_csv('stutter_processed.csv')\n",
    "df.head()"
   ]
  },
  {
   "cell_type": "code",
   "execution_count": null,
   "metadata": {},
   "outputs": [],
   "source": [
    "df.set_index('audio',inplace=True)"
   ]
  },
  {
   "cell_type": "code",
   "execution_count": null,
   "metadata": {},
   "outputs": [],
   "source": [
    "for f in df.index:\n",
    "    rate,signal = wavfile.read(df.at[f,'audio_wav'])\n",
    "    df.at[f,'length'] = signal.shape[0]/rate"
   ]
  },
  {
   "cell_type": "code",
   "execution_count": 41,
   "metadata": {},
   "outputs": [],
   "source": [
    "import glob\n",
    "from pydub import AudioSegment\n",
    "import re\n",
    "import tempfile\n",
    "\n",
    "#df['wav_audio'] = [sound for sound in glob.glob(\"AllAudio/*.wav\") ] \n",
    "\n",
    "#convert all the mp3 audio in the data to wav audio\n",
    "for sound in df.index:\n",
    "    path,ext =os.path.splitext(sound)\n",
    "    assert ext == '.mp3'\n",
    "    mp3 =AudioSegment.from_mp3(sound)\n",
    "    _, path = tempfile.mkstemp()\n",
    "    mp3.export(path, format=\"wav\")\n",
    "    shutil.copy(path, 'AllAudioWav/'+sound[8:-4])\n",
    "    df.at[sound,'wav_audio'] = 'AllAudioWav'+sound[8:-4]\n",
    "    os.close(_)\n"
   ]
  },
  {
   "cell_type": "code",
   "execution_count": 49,
   "metadata": {},
   "outputs": [],
   "source": [
    "df.reset_index(inplace=True)\n",
    "df.drop(['audio','audio_wav'], axis= 1)"
   ]
  },
  {
   "cell_type": "code",
   "execution_count": 51,
   "metadata": {},
   "outputs": [],
   "source": [
    "df.to_csv('stutter_processed.csv')"
   ]
  },
  {
   "cell_type": "code",
   "execution_count": 55,
   "metadata": {},
   "outputs": [
    {
     "data": {
      "text/html": [
       "<div>\n",
       "<style scoped>\n",
       "    .dataframe tbody tr th:only-of-type {\n",
       "        vertical-align: middle;\n",
       "    }\n",
       "\n",
       "    .dataframe tbody tr th {\n",
       "        vertical-align: top;\n",
       "    }\n",
       "\n",
       "    .dataframe thead th {\n",
       "        text-align: right;\n",
       "    }\n",
       "</style>\n",
       "<table border=\"1\" class=\"dataframe\">\n",
       "  <thead>\n",
       "    <tr style=\"text-align: right;\">\n",
       "      <th></th>\n",
       "      <th>age</th>\n",
       "      <th>transcription</th>\n",
       "      <th>sex_F</th>\n",
       "      <th>sex_M</th>\n",
       "      <th>length</th>\n",
       "    </tr>\n",
       "    <tr>\n",
       "      <th>wav_audio</th>\n",
       "      <th></th>\n",
       "      <th></th>\n",
       "      <th></th>\n",
       "      <th></th>\n",
       "      <th></th>\n",
       "    </tr>\n",
       "  </thead>\n",
       "  <tbody>\n",
       "    <tr>\n",
       "      <th>AllAudioWav/F_0101_13y1m_1</th>\n",
       "      <td>13</td>\n",
       "      <td>['for', 'Christmas', 'I', 'got', 'back', 'ther...</td>\n",
       "      <td>1</td>\n",
       "      <td>0</td>\n",
       "      <td>127.764898</td>\n",
       "    </tr>\n",
       "    <tr>\n",
       "      <th>AllAudioWav/M_0104_12y9m_1</th>\n",
       "      <td>12</td>\n",
       "      <td>['auto', 'brokers', 'called', 'stuff', 'could'...</td>\n",
       "      <td>0</td>\n",
       "      <td>1</td>\n",
       "      <td>172.852245</td>\n",
       "    </tr>\n",
       "    <tr>\n",
       "      <th>AllAudioWav/M_0017_09y4m_1</th>\n",
       "      <td>9</td>\n",
       "      <td>['sperm', 'with', 'bicarbonate', 'of', 'soda',...</td>\n",
       "      <td>0</td>\n",
       "      <td>1</td>\n",
       "      <td>139.415510</td>\n",
       "    </tr>\n",
       "    <tr>\n",
       "      <th>AllAudioWav/F_0988_13y6m_1</th>\n",
       "      <td>13</td>\n",
       "      <td>['I', 'would', 'like', 'to', 'talk', 'about', ...</td>\n",
       "      <td>1</td>\n",
       "      <td>0</td>\n",
       "      <td>127.268571</td>\n",
       "    </tr>\n",
       "    <tr>\n",
       "      <th>AllAudioWav/M_0104_12y7m_1</th>\n",
       "      <td>12</td>\n",
       "      <td>['Louise', 'Dawson', 'go', 'on', 'on', 'on', '...</td>\n",
       "      <td>0</td>\n",
       "      <td>1</td>\n",
       "      <td>140.094694</td>\n",
       "    </tr>\n",
       "  </tbody>\n",
       "</table>\n",
       "</div>"
      ],
      "text/plain": [
       "                            age  \\\n",
       "wav_audio                         \n",
       "AllAudioWav/F_0101_13y1m_1   13   \n",
       "AllAudioWav/M_0104_12y9m_1   12   \n",
       "AllAudioWav/M_0017_09y4m_1    9   \n",
       "AllAudioWav/F_0988_13y6m_1   13   \n",
       "AllAudioWav/M_0104_12y7m_1   12   \n",
       "\n",
       "                                                                transcription  \\\n",
       "wav_audio                                                                       \n",
       "AllAudioWav/F_0101_13y1m_1  ['for', 'Christmas', 'I', 'got', 'back', 'ther...   \n",
       "AllAudioWav/M_0104_12y9m_1  ['auto', 'brokers', 'called', 'stuff', 'could'...   \n",
       "AllAudioWav/M_0017_09y4m_1  ['sperm', 'with', 'bicarbonate', 'of', 'soda',...   \n",
       "AllAudioWav/F_0988_13y6m_1  ['I', 'would', 'like', 'to', 'talk', 'about', ...   \n",
       "AllAudioWav/M_0104_12y7m_1  ['Louise', 'Dawson', 'go', 'on', 'on', 'on', '...   \n",
       "\n",
       "                            sex_F  sex_M      length  \n",
       "wav_audio                                             \n",
       "AllAudioWav/F_0101_13y1m_1      1      0  127.764898  \n",
       "AllAudioWav/M_0104_12y9m_1      0      1  172.852245  \n",
       "AllAudioWav/M_0017_09y4m_1      0      1  139.415510  \n",
       "AllAudioWav/F_0988_13y6m_1      1      0  127.268571  \n",
       "AllAudioWav/M_0104_12y7m_1      0      1  140.094694  "
      ]
     },
     "execution_count": 55,
     "metadata": {},
     "output_type": "execute_result"
    }
   ],
   "source": [
    "df = pd.read_csv('stutter_processed.csv')\n",
    "df.set_index('wav_audio', inplace=True)\n",
    "df.head()"
   ]
  },
  {
   "cell_type": "code",
   "execution_count": 56,
   "metadata": {},
   "outputs": [
    {
     "name": "stderr",
     "output_type": "stream",
     "text": [
      "100%|██████████| 73/73 [11:11<00:00,  9.20s/it]\n"
     ]
    }
   ],
   "source": [
    "fft ={}\n",
    "fbank ={}\n",
    "signals ={}\n",
    "mfccs ={}\n",
    "\n",
    "def find_fft(signal, rate):\n",
    "    n = len(signal)\n",
    "    freq = np.fft.rfftfreq(n ,d =1/rate)\n",
    "    Y = np.abs(np.fft.rfft(signal)/n)\n",
    "    return (Y, freq)\n",
    "\n",
    "\n",
    "def envelope(y,rate, threshold):\n",
    "    masks =[]\n",
    "    y =pd.Series(y).apply(np.abs)\n",
    "    y_mean =y.rolling(window =int(rate/10), min_periods =1, center =True).mean()\n",
    "    for mean in y_mean:\n",
    "        if mean > threshold:\n",
    "            masks.append(True)\n",
    "        else:\n",
    "            masks.append(False)\n",
    "    return masks\n",
    "\n",
    "for f in tqdm(df.index):\n",
    "    signal,rate =librosa.load(f,sr=2048)\n",
    "    mask =envelope(signal, rate,0.0005)\n",
    "    signal =signal[mask]\n",
    "    signals[f] = signal\n",
    "    f_transform =find_fft(signal,rate)\n",
    "    fft[f] =f_transform\n",
    "    mel =mfcc(signal[:rate], rate, numcep =13, nfilt=26, nfft =51).T\n",
    "    mfccs[f] = mel\n",
    "    \n",
    "\n",
    "if len(os.listdir('Clean')) == 0:\n",
    "    for f in tqdm(df.index):\n",
    "        signal,rate =librosa.load(f,sr=256)\n",
    "        mask =envelope(signal, rate,0.0005)\n",
    "        wavfile.write(filename ='Clean/'+f[11:], rate =rate, data=signal[mask])"
   ]
  },
  {
   "cell_type": "code",
   "execution_count": 158,
   "metadata": {},
   "outputs": [],
   "source": [
    "from os.path import join\n",
    "from praatio import tgio\n",
    "import glob\n",
    "\n",
    "tgrids = sorted(glob.glob('AllAudioWav/generated_textgrids/*.TextGrid'))\n",
    "\n",
    "wav_files = sorted(glob.glob('AllAudioWav/*.wav'))\n",
    "\n",
    "fnListZipped = zip(tgrids, wav_files)"
   ]
  },
  {
   "cell_type": "code",
   "execution_count": 159,
   "metadata": {},
   "outputs": [],
   "source": [
    "fnList = [(wav,tg) for tg, wav in fnListZipped]\n",
    "\n",
    "WORDS ={}\n",
    "\n",
    "for w , t in fnList:\n",
    "    # 2 - extract all the words and their corresponding timestamps\n",
    "    tg = tgio.openTextgrid(t)\n",
    "    targetTier = tg.tierDict['words']\n",
    "    WORDS[w]=[(start,stop,label) for start,stop,label in targetTier.entryList]\n",
    "    \n"
   ]
  },
  {
   "cell_type": "code",
   "execution_count": 160,
   "metadata": {},
   "outputs": [],
   "source": [
    "frames = []\n",
    "SAMPLING_RATE = 2048\n",
    "\n",
    "import librosa.core as libcore\n",
    "\n",
    "\n",
    "for k,v in WORDS.items():\n",
    "    signals, _ = libcore.load(k, sr=SAMPLING_RATE)\n",
    "    for i  in v:\n",
    "        start,stop,label = i\n",
    "        start,stop = start*1000,stop*1000\n",
    "        frames.append({'sound_clip':k,'startTime': start, 'stop':stop, 'word':label})\n"
   ]
  },
  {
   "cell_type": "code",
   "execution_count": 192,
   "metadata": {},
   "outputs": [
    {
     "name": "stdout",
     "output_type": "stream",
     "text": [
      "0.0 765.6736853652767 <pydub.audio_segment.AudioSegment object at 0x7ff700368f60>\n"
     ]
    }
   ],
   "source": [
    "from pydub import AudioSegment\n",
    "from pydub.playback import play\n",
    "\n",
    "sound = AudioSegment.from_wav(frames[0]['sound_clip'])\n",
    "t1,t2 = frames[0]['startTime'],frames[0]['stop']\n",
    "\n",
    "new_sound =sound[t1:t2]\n",
    "play(new_sound)\n",
    "print(t1,t2,new_sound[t1:t2])"
   ]
  },
  {
   "cell_type": "code",
   "execution_count": 193,
   "metadata": {},
   "outputs": [],
   "source": [
    "stuttered = {}\n",
    "non_stuttered = {}\n",
    "\n",
    "for i in range(len(frames)):\n",
    "    sound,start,stop,label = frames[i]['sound_clip'],frames[i]['startTime'],frames[i]['stop'],frames[i]['word']\n",
    "    if \"mered\" in label:\n",
    "        stuttered['{}'.format(i)+'&'+sound] = (start,stop,label)\n",
    "    else:\n",
    "        non_stuttered['{}'.format(i)+'&'+sound] = (start,stop,label) "
   ]
  },
  {
   "cell_type": "code",
   "execution_count": 194,
   "metadata": {},
   "outputs": [],
   "source": [
    "non_stuttered_labels = [0 for _ in range(7711)]\n",
    "stuttered_labels =[1 for _ in range(405)]"
   ]
  },
  {
   "cell_type": "code",
   "execution_count": 195,
   "metadata": {},
   "outputs": [],
   "source": [
    "import pydub\n",
    "import shutil\n",
    "\n",
    "for i,f in enumerate(stuttered.keys()):\n",
    "    start,stop,label = stuttered[f]\n",
    "    old_sound = f.split('&')[1]\n",
    "    newAudio = pydub.AudioSegment.from_wav(old_sound)\n",
    "    clippedAudio = newAudio[start:stop]\n",
    "    \n",
    "    out_f = open(\"%s_label_stuttered.wav\" % i, 'wb')\n",
    "    \n",
    "    clippedAudio.export(out_f,format ='wav')"
   ]
  },
  {
   "cell_type": "code",
   "execution_count": 196,
   "metadata": {},
   "outputs": [],
   "source": [
    "import pydub\n",
    "\n",
    "for i,f in enumerate(non_stuttered.keys()):\n",
    "    start,stop,label = non_stuttered[f]\n",
    "    old_sound = f.split('&')[1]\n",
    "    newAudio = pydub.AudioSegment.from_wav(old_sound)\n",
    "    new = newAudio[start:stop]\n",
    "    \n",
    "    out_f = open(\"%s_label_non-stuttered.wav\" % i, 'wb')\n",
    "    \n",
    "    new.export(out_f,format ='wav')"
   ]
  },
  {
   "cell_type": "code",
   "execution_count": 197,
   "metadata": {},
   "outputs": [],
   "source": [
    "import glob\n",
    "import os\n",
    "import pydub\n",
    "from pydub.playback import play\n"
   ]
  },
  {
   "cell_type": "code",
   "execution_count": 198,
   "metadata": {},
   "outputs": [
    {
     "data": {
      "text/plain": [
       "<matplotlib.collections.PolyCollection at 0x7ff70021a828>"
      ]
     },
     "execution_count": 198,
     "metadata": {},
     "output_type": "execute_result"
    },
    {
     "data": {
      "image/png": "[encoded data removed]",
      "text/plain": [
       "<Figure size 864x288 with 1 Axes>"
      ]
     },
     "metadata": {
      "needs_background": "light"
     },
     "output_type": "display_data"
    }
   ],
   "source": [
    "import librosa.display\n",
    "\n",
    "import librosa.core as libcore\n",
    "\n",
    "file =glob.glob('non_stuttered/*.wav')[0]\n",
    "plt.figure(figsize=(12,4))\n",
    "\n",
    "signal,sampling_rate =libcore.load(file, sr=SAMPLING_RATE)\n",
    "\n",
    "librosa.display.waveplot(signal, sr =sampling_rate)"
   ]
  },
  {
   "cell_type": "code",
   "execution_count": 208,
   "metadata": {},
   "outputs": [],
   "source": [
    "from pydub.playback import play\n",
    "from pydub import AudioSegment\n",
    "\n",
    "file,start,stop,_ =[(k,v[0],v[1],v[2]) for k,v in non_stuttered.items()][9]\n",
    "\n",
    "file =file.split('&')[1]\n",
    "wavSound = AudioSegment.from_wav(file)\n",
    "\n",
    "new_sound =wavSound[start:stop]\n",
    "\n",
    "play(new_sound)"
   ]
  },
  {
   "cell_type": "code",
   "execution_count": null,
   "metadata": {},
   "outputs": [],
   "source": [
    "import librosa.display\n",
    "\n",
    "import librosa.core as libcore\n",
    "\n",
    "plt.figure(figsize=(12,4))\n",
    "\n",
    "signal,sampling_rate =libcore.load(file, sr=SAMPLING_RATE)\n",
    "\n",
    "librosa.display.waveplot(signal, sr =sampling_rate)"
   ]
  },
  {
   "cell_type": "code",
   "execution_count": null,
   "metadata": {},
   "outputs": [],
   "source": []
  }
 ],
 "metadata": {
  "kernelspec": {
   "display_name": "Python 3",
   "language": "python",
   "name": "python3"
  },
  "language_info": {
   "codemirror_mode": {
    "name": "ipython",
    "version": 3
   },
   "file_extension": ".py",
   "mimetype": "text/x-python",
   "name": "python",
   "nbconvert_exporter": "python",
   "pygments_lexer": "ipython3",
   "version": "3.6.8"
  }
 },
 "nbformat": 4,
 "nbformat_minor": 2
}

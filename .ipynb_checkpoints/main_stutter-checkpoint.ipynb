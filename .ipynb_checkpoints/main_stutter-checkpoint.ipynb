{
 "cells": [
  {
   "cell_type": "code",
   "execution_count": null,
   "metadata": {},
   "outputs": [],
   "source": [
    "import os\n",
    "from os.path import join\n",
    "\n",
    "from praatio import tgio\n",
    "\n",
    "inputPath = join('AllAudioWav')\n",
    "outputPath = join(inputPath, \"generated_textgrids\")\n",
    "\n",
    "if not os.path.exists(outputPath):\n",
    "    os.mkdir(outputPath)\n",
    "\n",
    "for fn in os.listdir(inputPath):\n",
    "    name,ext = os.path.splitext(fn)\n",
    "    if ext != \".wav\":\n",
    "        continue \n",
    "    # We don't have to worry about specifying the duration of the audio file.\n",
    "    # Setting the pairedWav argument will cause tgio to handle it for us.\n",
    "    wordTier = tgio.IntervalTier('words', [], 0, pairedWav=join(inputPath, fn))\n",
    "    \n",
    "    tg = tgio.Textgrid()\n",
    "    tg.addTier(wordTier)\n",
    "    tg.save(join(outputPath, name + \".TextGrid\"))\n",
    "\n",
    "# Did it work?\n",
    "for fn in os.listdir(outputPath):\n",
    "    ext = os.path.splitext(fn)[1]\n",
    "    if ext != \".TextGrid\":\n",
    "        continue\n",
    "    print(fn)"
   ]
  },
  {
   "cell_type": "code",
   "execution_count": 42,
   "metadata": {},
   "outputs": [
    {
     "ename": "SyntaxError",
     "evalue": "EOL while scanning string literal (<ipython-input-42-ad938a7cebe8>, line 7)",
     "output_type": "error",
     "traceback": [
      "\u001b[0;36m  File \u001b[0;32m\"<ipython-input-42-ad938a7cebe8>\"\u001b[0;36m, line \u001b[0;32m7\u001b[0m\n\u001b[0;31m    praatEXE = \"\u001b[0m\n\u001b[0m                ^\u001b[0m\n\u001b[0;31mSyntaxError\u001b[0m\u001b[0;31m:\u001b[0m EOL while scanning string literal\n"
     ]
    }
   ],
   "source": [
    "import glob\n",
    "import librosa\n",
    "import os\n",
    "from os.path import join\n",
    "from praatio import tgio\n",
    "\n",
    "\n",
    "\n",
    "tgPath = join(\"AllAudioWav\",\"generated_textgrids\")\n",
    "tgs =os.listdir(tgPath)\n",
    "print(len(tgs))\n",
    "\n",
    "fnList =[ ( wavName, tgs[i] ) for i, wavName in enumerate(glob.glob(\"AllAudioWav/*.wav\")) ]\n",
    "\n",
    "_, tg =fnList[0]\n",
    "\n",
    "tg = tgio.openTextGrid(tg)\n",
    "print(tg.tierNameList)"
   ]
  },
  {
   "cell_type": "code",
   "execution_count": 33,
   "metadata": {},
   "outputs": [
    {
     "name": "stdout",
     "output_type": "stream",
     "text": [
      "[]\n"
     ]
    }
   ],
   "source": []
  },
  {
   "cell_type": "code",
   "execution_count": null,
   "metadata": {},
   "outputs": [],
   "source": []
  }
 ],
 "metadata": {
  "kernelspec": {
   "display_name": "Python 3",
   "language": "python",
   "name": "python3"
  },
  "language_info": {
   "codemirror_mode": {
    "name": "ipython",
    "version": 3
   },
   "file_extension": ".py",
   "mimetype": "text/x-python",
   "name": "python",
   "nbconvert_exporter": "python",
   "pygments_lexer": "ipython3",
   "version": "3.6.8"
  }
 },
 "nbformat": 4,
 "nbformat_minor": 2
}

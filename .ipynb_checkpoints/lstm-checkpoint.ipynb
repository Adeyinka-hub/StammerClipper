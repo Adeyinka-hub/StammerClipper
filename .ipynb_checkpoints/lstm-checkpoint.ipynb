{
 "cells": [
  {
   "cell_type": "code",
   "execution_count": 10,
   "metadata": {},
   "outputs": [],
   "source": [
    "import os\n",
    "import pandas\n",
    "import h5py\n",
    "\n",
    "import librosa.core as libcore\n",
    "import numpy as np\n",
    "from scipy.ndimage.interpolation import zoom\n",
    "from tqdm import tqdm\n",
    "\n",
    "%matplotlib inline\n",
    "import matplotlib.pyplot as plt"
   ]
  },
  {
   "cell_type": "code",
   "execution_count": 2,
   "metadata": {},
   "outputs": [],
   "source": [
    "SAMPLING_RATE = 2048\n",
    "N_FFT = 256\n",
    "SEQ_TIME = 5\n",
    "\n",
    "CHUNK_SIZE = SEQ_TIME * SAMPLING_RATE\n",
    "HOP_LENGTH = N_FFT // 4\n",
    "STFT_FPS = SAMPLING_RATE // HOP_LENGTH\n",
    "\n",
    "TS_SIZE = 2500\n"
   ]
  },
  {
   "cell_type": "code",
   "execution_count": 3,
   "metadata": {},
   "outputs": [],
   "source": [
    "def sample_chunk(samples, power, position=None, size=CHUNK_SIZE):\n",
    "        \n",
    "    if position is None:\n",
    "        position = int(np.random.uniform(high=len(samples) - size))    \n",
    "        \n",
    "    chunk = samples[position : position + size] / power  \n",
    "    \n",
    "    spectrum = np.log(np.abs(libcore.stft(chunk, n_fft=N_FFT)) + 1)[0 : N_FFT // 4] / 10.0        \n",
    "    spectrum = zoom(spectrum, zoom=0.5)\n",
    "    return spectrum\n",
    "\n"
   ]
  },
  {
   "cell_type": "code",
   "execution_count": 11,
   "metadata": {},
   "outputs": [
    {
     "name": "stderr",
     "output_type": "stream",
     "text": [
      "100%|██████████| 75/75 [04:48<00:00,  3.84s/it]  \n"
     ]
    }
   ],
   "source": [
    "signals ={}\n",
    "powers ={}\n",
    "\n",
    "for f in tqdm(os.listdir('Clean/')):\n",
    "    samples, _ = libcore.load('Clean/' + f, sr=SAMPLING_RATE)\n",
    "    power = np.mean(samples ** 2) * 0.5\n",
    "    signals[f] = samples\n",
    "    powers[f] = power"
   ]
  },
  {
   "cell_type": "code",
   "execution_count": 28,
   "metadata": {},
   "outputs": [
    {
     "data": {
      "text/plain": [
       "dict_values([array([ 3.5709345e-05,  4.0758434e-05,  4.3330267e-05, ...,\n",
       "       -5.3308751e-05, -4.5050681e-05, -3.1591138e-05], dtype=float32), array([-1.5851228e-04, -1.6326469e-04, -1.5752942e-04, ...,\n",
       "       -6.1610795e-06, -3.5567798e-06, -8.7636909e-07], dtype=float32), array([-6.0527494e-05, -5.4572949e-05, -4.3947861e-05, ...,\n",
       "       -1.6874503e-04, -1.3418563e-04, -8.6230320e-05], dtype=float32), array([-2.9076534e-04, -2.3755003e-04, -1.6181683e-04, ...,\n",
       "       -7.1148565e-06, -6.1258488e-06, -4.5181687e-06], dtype=float32), array([-1.4651438e-06, -7.2236735e-06, -1.3489274e-05, ...,\n",
       "        1.4512508e-05,  9.6788699e-06,  4.3555387e-06], dtype=float32), array([2.8737411e-05, 2.3289134e-05, 1.5833926e-05, ..., 1.0116734e-05,\n",
       "       8.3695923e-06, 5.7416996e-06], dtype=float32), array([6.3790030e-05, 6.4431631e-05, 6.0738384e-05, ..., 4.0755916e-05,\n",
       "       4.7133315e-05, 4.5255838e-05], dtype=float32), array([1.06431537e-04, 1.31476365e-04, 1.49954416e-04, ...,\n",
       "       2.30267979e-05, 1.35675555e-05, 3.87143473e-06], dtype=float32), array([ 6.1530729e-05,  6.0815619e-05,  5.6053137e-05, ...,\n",
       "       -1.1236192e-05, -9.6665963e-06, -7.0335936e-06], dtype=float32), array([-9.4926938e-05, -9.9899546e-05, -9.8746350e-05, ...,\n",
       "        1.7808552e-05,  1.1990501e-05,  6.2485383e-06], dtype=float32), array([-8.0783910e-05, -5.2867392e-05, -1.8247205e-05, ...,\n",
       "       -5.6294197e-05, -4.0628856e-05, -2.1789438e-05], dtype=float32), array([ 6.2986197e-05,  6.5035187e-05,  6.2784842e-05, ...,\n",
       "       -8.3534673e-05, -6.8486057e-05, -4.6167297e-05], dtype=float32), array([ 5.38781787e-05,  3.11970944e-05,  3.55954785e-06, ...,\n",
       "       -1.05862555e-05, -1.11506324e-05, -9.98153791e-06], dtype=float32), array([ 6.536197e-05,  6.899734e-05,  6.791520e-05, ..., -1.038799e-04,\n",
       "       -9.070248e-05, -6.661931e-05], dtype=float32), array([ 8.1822636e-06,  2.4170273e-05,  4.0243587e-05, ...,\n",
       "       -5.3028267e-05, -4.8989186e-05, -3.8412054e-05], dtype=float32), array([-5.4859011e-05, -3.5392979e-05, -1.1592197e-05, ...,\n",
       "        2.7111148e-05,  2.2133161e-05,  1.4786389e-05], dtype=float32), array([2.4554945e-04, 1.5975717e-04, 5.3381762e-05, ..., 3.3270291e-05,\n",
       "       2.9374047e-05, 2.1837419e-05], dtype=float32), array([-0.00179191, -0.00058475,  0.0007968 , ...,  0.00185475,\n",
       "        0.00141784,  0.00085266], dtype=float32), array([-2.9294441e-05, -2.4817051e-05, -1.8177074e-05, ...,\n",
       "        1.9294872e-05,  1.4712935e-05,  8.9601735e-06], dtype=float32), array([-5.34514311e-06, -2.08803212e-05, -3.69406043e-05, ...,\n",
       "       -1.93673754e-04, -1.65615245e-04, -1.18268676e-04], dtype=float32), array([9.0252448e-05, 8.1547158e-05, 6.6002838e-05, ..., 3.9807357e-05,\n",
       "       3.2834443e-05, 2.2322294e-05], dtype=float32), array([ 6.3847590e-05,  6.5022148e-05,  6.1796527e-05, ...,\n",
       "       -3.4308810e-05, -2.5143034e-05, -1.3963472e-05], dtype=float32), array([-4.7549063e-05, -8.2586252e-05, -1.1533661e-04, ...,\n",
       "       -2.2740473e-05, -2.1035725e-05, -1.6553377e-05], dtype=float32), array([-6.0284026e-05, -5.3708420e-05, -4.2558913e-05, ...,\n",
       "       -8.9367359e-06, -6.2518106e-06, -3.1681786e-06], dtype=float32), array([-3.0047480e-05, -2.7328480e-05, -2.2377400e-05, ...,\n",
       "       -8.4818885e-06, -6.9951648e-06, -4.8029765e-06], dtype=float32), array([ 6.0993898e-05,  5.8811125e-05,  5.2741172e-05, ...,\n",
       "       -7.3454812e-06, -7.1754266e-06, -5.9636964e-06], dtype=float32), array([-2.56696367e-05, -1.47676210e-05, -1.56125702e-06, ...,\n",
       "       -1.85259469e-05, -1.80247571e-05, -1.49269335e-05], dtype=float32), array([ 6.3169697e-05,  6.8404333e-05,  7.0061920e-05, ...,\n",
       "       -1.7414113e-05, -1.5238544e-05, -1.1307100e-05], dtype=float32), array([-7.8051053e-05, -1.1364624e-04, -1.4535645e-04, ...,\n",
       "        1.4436010e-05,  1.3224077e-05,  1.0210570e-05], dtype=float32), array([-1.6275527e-04, -1.7477687e-04, -1.7634568e-04, ...,\n",
       "        1.2081902e-04,  9.7844437e-05,  6.4530352e-05], dtype=float32), array([-2.7563250e-05, -2.1512757e-05, -1.3632056e-05, ...,\n",
       "       -2.6519496e-05, -2.5398089e-05, -2.0795142e-05], dtype=float32), array([2.5070048e-04, 2.4784528e-04, 2.2732880e-04, ..., 1.4680529e-04,\n",
       "       1.2560852e-04, 8.9761212e-05], dtype=float32), array([-2.3108860e-04, -3.2926252e-04, -4.1557039e-04, ...,\n",
       "       -1.3429311e-06, -1.7501418e-06, -1.9063402e-06], dtype=float32), array([4.7940719e-03, 4.9887937e-03, 4.8592314e-03, ..., 4.8541864e-05,\n",
       "       2.8283583e-05, 7.5924290e-06], dtype=float32), array([-2.8461229e-05, -2.4254789e-05, -1.8116951e-05, ...,\n",
       "        7.5098360e-05,  5.9936508e-05,  3.8655304e-05], dtype=float32), array([-4.9138216e-06, -1.6202968e-05, -2.7416952e-05, ...,\n",
       "       -1.1979675e-05, -1.5051624e-05, -1.5378537e-05], dtype=float32), array([-3.7443440e-06, -1.3053568e-05, -2.2439153e-05, ...,\n",
       "        1.3292483e-06,  1.5742751e-06,  1.5977263e-06], dtype=float32), array([-1.0415948e-05, -3.4275956e-05, -5.8631133e-05, ...,\n",
       "       -6.1184633e-06,  7.7386829e-07,  6.2742783e-06], dtype=float32), array([-4.6147998e-06, -1.5765288e-05, -2.6895283e-05, ...,\n",
       "        6.5222644e-05,  5.4345204e-05,  3.7517191e-05], dtype=float32), array([ 1.9186293e-04,  1.9783540e-04,  1.9047273e-04, ...,\n",
       "       -5.4116834e-05, -4.6049852e-05, -3.2669366e-05], dtype=float32), array([8.8638561e-05, 8.1506194e-05, 6.8598194e-05, ..., 4.6576017e-05,\n",
       "       4.0566225e-05, 2.9596742e-05], dtype=float32), array([-1.7338101e-04,  8.1516344e-05,  3.5958129e-04, ...,\n",
       "       -5.4461296e-05, -1.0983291e-04, -1.3797775e-04], dtype=float32), array([ 2.9814919e-05,  2.7329141e-05,  2.2617773e-05, ...,\n",
       "       -2.4328081e-06, -2.1440196e-06, -1.5777526e-06], dtype=float32), array([-1.4781666e-06, -7.9424108e-06, -1.4860626e-05, ...,\n",
       "       -6.0005897e-07,  7.1081320e-07,  1.7227147e-06], dtype=float32), array([ 2.58697901e-06,  1.45625245e-05,  2.75780967e-05, ...,\n",
       "       -4.58154682e-05, -3.79684461e-05, -2.59528133e-05], dtype=float32), array([-1.6195503e-04, -1.0019462e-04, -2.4242872e-05, ...,\n",
       "       -2.1783044e-04, -1.8664179e-04, -1.3380464e-04], dtype=float32), array([5.9293277e-05, 5.1694580e-05, 3.9699982e-05, ..., 1.0501872e-04,\n",
       "       8.2695966e-05, 5.2261144e-05], dtype=float32), array([-9.3737314e-04, -8.6033123e-04, -7.1677391e-04, ...,\n",
       "       -2.6331172e-05, -2.2613003e-05, -1.6264636e-05], dtype=float32), array([-5.5939439e-05, -4.1096835e-05, -2.1736058e-05, ...,\n",
       "       -8.2818178e-06, -6.8443769e-06, -4.7060630e-06], dtype=float32), array([7.7759302e-07, 2.5870615e-06, 4.1731701e-06, ..., 6.3702384e-05,\n",
       "       5.0483704e-05, 3.2246808e-05], dtype=float32), array([ 6.3964493e-05,  6.6507382e-05,  6.4581815e-05, ...,\n",
       "       -2.1585176e-05, -1.7425735e-05, -1.1464667e-05], dtype=float32), array([ 8.8557848e-05,  7.8616053e-05,  6.2123800e-05, ...,\n",
       "       -3.4265333e-05, -2.8035034e-05, -1.8750237e-05], dtype=float32), array([ 2.0004921e-04,  1.4989355e-04,  8.3437822e-05, ...,\n",
       "       -5.0344749e-04, -4.2682409e-04, -3.0146999e-04], dtype=float32), array([-1.66042169e-04, -1.16767085e-04, -5.40886613e-05, ...,\n",
       "        3.58171455e-05,  3.09247225e-05,  2.23788284e-05], dtype=float32), array([7.2623452e-04, 5.8930280e-04, 3.9620118e-04, ..., 3.2826298e-05,\n",
       "       2.1320126e-05, 8.8165789e-06], dtype=float32), array([ 4.0573938e-04,  3.2556421e-04,  2.1320628e-04, ...,\n",
       "       -4.2478277e-06, -5.4662023e-06, -5.7824782e-06], dtype=float32), array([-0.00110435, -0.00104847, -0.00091396, ...,  0.00031189,\n",
       "        0.00025167,  0.00016546], dtype=float32), array([2.02463754e-03, 1.62076845e-03, 1.05917628e-03, ...,\n",
       "       1.47185885e-04, 1.21681216e-04, 8.30108911e-05], dtype=float32), array([ 3.7613358e-06,  1.2908502e-05,  2.2149094e-05, ...,\n",
       "        1.9273621e-07, -5.8388468e-07, -1.0931834e-06], dtype=float32), array([ 3.0243820e-05,  2.6046371e-05,  1.9525623e-05, ...,\n",
       "       -9.8901641e-05, -8.3721912e-05, -5.9067057e-05], dtype=float32), array([-5.78577783e-05, -4.96319626e-05, -3.72678223e-05, ...,\n",
       "       -1.40628408e-05, -1.07893065e-05, -6.52679182e-06], dtype=float32), array([-4.2947824e-04, -4.0994855e-04, -3.6018080e-04, ...,\n",
       "       -8.0539809e-05, -7.1596922e-05, -5.3711581e-05], dtype=float32), array([6.4766791e-05, 7.2220908e-05, 7.5827062e-05, ..., 5.1379862e-05,\n",
       "       3.7013706e-05, 1.9872105e-05], dtype=float32), array([-6.3782216e-05, -1.3252842e-04, -1.9921266e-04, ...,\n",
       "       -7.0448261e-04, -5.6570873e-04, -3.6893642e-04], dtype=float32), array([ 3.1138152e-05,  2.8241569e-05,  2.2928574e-05, ...,\n",
       "       -4.5113004e-05, -3.9594965e-05, -2.9236715e-05], dtype=float32), array([-9.6943048e-05, -1.0334346e-04, -1.0326829e-04, ...,\n",
       "       -6.3782303e-05, -6.0244281e-05, -4.8559785e-05], dtype=float32), array([-3.4727898e-05, -4.1513165e-05, -4.5983481e-05, ...,\n",
       "       -3.5304307e-05, -3.0015215e-05, -2.1336229e-05], dtype=float32), array([-8.3343381e-05, -6.1698251e-05, -3.3644181e-05, ...,\n",
       "        5.9397986e-05,  4.8952275e-05,  3.3201020e-05], dtype=float32), array([ 2.6203240e-06,  5.5121727e-06,  7.9685915e-06, ...,\n",
       "       -2.5942143e-05, -1.5617381e-05, -4.9363339e-06], dtype=float32), array([ 7.8607241e-05,  4.4886197e-05,  4.8920924e-06, ...,\n",
       "       -6.2554764e-06, -3.8006622e-06, -1.2276206e-06], dtype=float32), array([-7.9585057e-05,  9.9584344e-05,  2.9216646e-04, ...,\n",
       "        2.9362041e-06,  3.5853536e-06,  3.6058900e-06], dtype=float32), array([-2.8574457e-06, -4.5843085e-06, -5.8080682e-06, ...,\n",
       "       -1.4956039e-06, -1.3308406e-06, -9.9182444e-07], dtype=float32), array([ 3.7347698e-05,  4.5605640e-05,  5.1108913e-05, ...,\n",
       "       -1.3076470e-04, -1.2361270e-04, -9.9688543e-05], dtype=float32), array([-3.2171214e-04, -3.4316935e-04, -3.4355608e-04, ...,\n",
       "        1.5692352e-05,  6.8727427e-06, -1.3549396e-06], dtype=float32), array([-6.0510258e-05, -5.9774153e-05, -5.5136265e-05, ...,\n",
       "        3.6359083e-06,  3.4910136e-06,  2.8932961e-06], dtype=float32)])"
      ]
     },
     "execution_count": 28,
     "metadata": {},
     "output_type": "execute_result"
    }
   ],
   "source": [
    "signals.values()"
   ]
  },
  {
   "cell_type": "code",
   "execution_count": 79,
   "metadata": {},
   "outputs": [],
   "source": [
    "training_set = np.array([sample_chunk(list(signals.values())[i],list(powers.values())[i]).T for i in range(len(os.listdir('Clean'))) for _ in range(1000)])\n"
   ]
  },
  {
   "cell_type": "code",
   "execution_count": 80,
   "metadata": {},
   "outputs": [
    {
     "data": {
      "image/png": "[encoded data removed]",
      "text/plain": [
       "<Figure size 1800x144 with 2 Axes>"
      ]
     },
     "metadata": {
      "needs_background": "light"
     },
     "output_type": "display_data"
    }
   ],
   "source": [
    "plt.figure(figsize=(25,2))\n",
    "cax = plt.imshow(training_set[74].T)\n",
    "plt.colorbar(cax)\n",
    "plt.show()\n",
    "plt.close()\n"
   ]
  },
  {
   "cell_type": "code",
   "execution_count": 81,
   "metadata": {},
   "outputs": [],
   "source": [
    "from keras.layers import Input,LSTM\n",
    "from keras.layers.core import RepeatVector\n",
    "from keras.models import Sequential\n",
    "from keras.models import Model"
   ]
  },
  {
   "cell_type": "code",
   "execution_count": 82,
   "metadata": {},
   "outputs": [
    {
     "name": "stdout",
     "output_type": "stream",
     "text": [
      "_________________________________________________________________\n",
      "Layer (type)                 Output Shape              Param #   \n",
      "=================================================================\n",
      "input_11 (InputLayer)        (None, 80, 32)            0         \n",
      "_________________________________________________________________\n",
      "lstm_19 (LSTM)               (None, 100)               53200     \n",
      "_________________________________________________________________\n",
      "repeat_vector_10 (RepeatVect (None, 80, 100)           0         \n",
      "_________________________________________________________________\n",
      "lstm_20 (LSTM)               (None, 80, 32)            17024     \n",
      "=================================================================\n",
      "Total params: 70,224\n",
      "Trainable params: 70,224\n",
      "Non-trainable params: 0\n",
      "_________________________________________________________________\n"
     ]
    }
   ],
   "source": [
    "SEQ_LEN = (SEQ_TIME * STFT_FPS + 1) // 2\n",
    "INPUT_DIM = (N_FFT // 4) // 2\n",
    "\n",
    "# input layer\n",
    "inputs = Input(shape=(SEQ_LEN, INPUT_DIM))\n",
    "\n",
    "#encoder \n",
    "enc = LSTM(100, activation ='relu')(inputs)\n",
    "\n",
    "# feature layer  with repeat vector\n",
    "features =RepeatVector(SEQ_LEN)(enc)\n",
    "\n",
    "#decoder layer\n",
    "dec = LSTM(INPUT_DIM, activation ='relu',return_sequences =True)(features)\n",
    "\n",
    "autoencoder =Model(inputs, dec)\n",
    "autoencoder.summary()"
   ]
  },
  {
   "cell_type": "code",
   "execution_count": 83,
   "metadata": {},
   "outputs": [],
   "source": [
    "autoencoder.compile(optimizer='sgd', loss='mse')"
   ]
  },
  {
   "cell_type": "code",
   "execution_count": 84,
   "metadata": {},
   "outputs": [
    {
     "name": "stdout",
     "output_type": "stream",
     "text": [
      "Train on 67500 samples, validate on 7500 samples\n",
      "Epoch 1/50\n",
      " 3392/67500 [>.............................] - ETA: 3:45 - loss: 0.1465"
     ]
    },
    {
     "ename": "KeyboardInterrupt",
     "evalue": "",
     "output_type": "error",
     "traceback": [
      "\u001b[0;31m---------------------------------------------------------------------------\u001b[0m",
      "\u001b[0;31mKeyboardInterrupt\u001b[0m                         Traceback (most recent call last)",
      "\u001b[0;32m<ipython-input-84-3000dda15417>\u001b[0m in \u001b[0;36m<module>\u001b[0;34m\u001b[0m\n\u001b[1;32m      2\u001b[0m \u001b[0;34m\u001b[0m\u001b[0m\n\u001b[1;32m      3\u001b[0m \u001b[0mmodel_cb\u001b[0m \u001b[0;34m=\u001b[0m \u001b[0mModelCheckpoint\u001b[0m\u001b[0;34m(\u001b[0m\u001b[0;34m'output/lstm-{epoch:d}-{val_loss:.3f}.hdf'\u001b[0m\u001b[0;34m,\u001b[0m \u001b[0mmonitor\u001b[0m\u001b[0;34m=\u001b[0m\u001b[0;34m'val_loss'\u001b[0m\u001b[0;34m,\u001b[0m \u001b[0mverbose\u001b[0m\u001b[0;34m=\u001b[0m\u001b[0;36m0\u001b[0m\u001b[0;34m,\u001b[0m \u001b[0msave_best_only\u001b[0m\u001b[0;34m=\u001b[0m\u001b[0;32mFalse\u001b[0m\u001b[0;34m,\u001b[0m \u001b[0msave_weights_only\u001b[0m\u001b[0;34m=\u001b[0m\u001b[0;32mFalse\u001b[0m\u001b[0;34m,\u001b[0m \u001b[0mmode\u001b[0m\u001b[0;34m=\u001b[0m\u001b[0;34m'auto'\u001b[0m\u001b[0;34m,\u001b[0m \u001b[0mperiod\u001b[0m\u001b[0;34m=\u001b[0m\u001b[0;36m10\u001b[0m\u001b[0;34m)\u001b[0m\u001b[0;34m\u001b[0m\u001b[0;34m\u001b[0m\u001b[0m\n\u001b[0;32m----> 4\u001b[0;31m \u001b[0mhistory\u001b[0m \u001b[0;34m=\u001b[0m \u001b[0mautoencoder\u001b[0m\u001b[0;34m.\u001b[0m\u001b[0mfit\u001b[0m\u001b[0;34m(\u001b[0m\u001b[0mtraining_set\u001b[0m\u001b[0;34m,\u001b[0m \u001b[0mtraining_set\u001b[0m\u001b[0;34m,\u001b[0m \u001b[0mepochs\u001b[0m\u001b[0;34m=\u001b[0m\u001b[0;36m50\u001b[0m\u001b[0;34m,\u001b[0m \u001b[0mvalidation_split\u001b[0m\u001b[0;34m=\u001b[0m\u001b[0;36m0.1\u001b[0m\u001b[0;34m,\u001b[0m \u001b[0mcallbacks\u001b[0m\u001b[0;34m=\u001b[0m\u001b[0;34m[\u001b[0m\u001b[0mmodel_cb\u001b[0m\u001b[0;34m]\u001b[0m\u001b[0;34m)\u001b[0m\u001b[0;34m\u001b[0m\u001b[0;34m\u001b[0m\u001b[0m\n\u001b[0m",
      "\u001b[0;32m~/anaconda3/envs/tensorflow/lib/python3.6/site-packages/keras/engine/training.py\u001b[0m in \u001b[0;36mfit\u001b[0;34m(self, x, y, batch_size, epochs, verbose, callbacks, validation_split, validation_data, shuffle, class_weight, sample_weight, initial_epoch, steps_per_epoch, validation_steps, **kwargs)\u001b[0m\n\u001b[1;32m   1037\u001b[0m                                         \u001b[0minitial_epoch\u001b[0m\u001b[0;34m=\u001b[0m\u001b[0minitial_epoch\u001b[0m\u001b[0;34m,\u001b[0m\u001b[0;34m\u001b[0m\u001b[0;34m\u001b[0m\u001b[0m\n\u001b[1;32m   1038\u001b[0m                                         \u001b[0msteps_per_epoch\u001b[0m\u001b[0;34m=\u001b[0m\u001b[0msteps_per_epoch\u001b[0m\u001b[0;34m,\u001b[0m\u001b[0;34m\u001b[0m\u001b[0;34m\u001b[0m\u001b[0m\n\u001b[0;32m-> 1039\u001b[0;31m                                         validation_steps=validation_steps)\n\u001b[0m\u001b[1;32m   1040\u001b[0m \u001b[0;34m\u001b[0m\u001b[0m\n\u001b[1;32m   1041\u001b[0m     def evaluate(self, x=None, y=None,\n",
      "\u001b[0;32m~/anaconda3/envs/tensorflow/lib/python3.6/site-packages/keras/engine/training_arrays.py\u001b[0m in \u001b[0;36mfit_loop\u001b[0;34m(model, f, ins, out_labels, batch_size, epochs, verbose, callbacks, val_f, val_ins, shuffle, callback_metrics, initial_epoch, steps_per_epoch, validation_steps)\u001b[0m\n\u001b[1;32m    197\u001b[0m                     \u001b[0mins_batch\u001b[0m\u001b[0;34m[\u001b[0m\u001b[0mi\u001b[0m\u001b[0;34m]\u001b[0m \u001b[0;34m=\u001b[0m \u001b[0mins_batch\u001b[0m\u001b[0;34m[\u001b[0m\u001b[0mi\u001b[0m\u001b[0;34m]\u001b[0m\u001b[0;34m.\u001b[0m\u001b[0mtoarray\u001b[0m\u001b[0;34m(\u001b[0m\u001b[0;34m)\u001b[0m\u001b[0;34m\u001b[0m\u001b[0;34m\u001b[0m\u001b[0m\n\u001b[1;32m    198\u001b[0m \u001b[0;34m\u001b[0m\u001b[0m\n\u001b[0;32m--> 199\u001b[0;31m                 \u001b[0mouts\u001b[0m \u001b[0;34m=\u001b[0m \u001b[0mf\u001b[0m\u001b[0;34m(\u001b[0m\u001b[0mins_batch\u001b[0m\u001b[0;34m)\u001b[0m\u001b[0;34m\u001b[0m\u001b[0;34m\u001b[0m\u001b[0m\n\u001b[0m\u001b[1;32m    200\u001b[0m                 \u001b[0mouts\u001b[0m \u001b[0;34m=\u001b[0m \u001b[0mto_list\u001b[0m\u001b[0;34m(\u001b[0m\u001b[0mouts\u001b[0m\u001b[0;34m)\u001b[0m\u001b[0;34m\u001b[0m\u001b[0;34m\u001b[0m\u001b[0m\n\u001b[1;32m    201\u001b[0m                 \u001b[0;32mfor\u001b[0m \u001b[0ml\u001b[0m\u001b[0;34m,\u001b[0m \u001b[0mo\u001b[0m \u001b[0;32min\u001b[0m \u001b[0mzip\u001b[0m\u001b[0;34m(\u001b[0m\u001b[0mout_labels\u001b[0m\u001b[0;34m,\u001b[0m \u001b[0mouts\u001b[0m\u001b[0;34m)\u001b[0m\u001b[0;34m:\u001b[0m\u001b[0;34m\u001b[0m\u001b[0;34m\u001b[0m\u001b[0m\n",
      "\u001b[0;32m~/anaconda3/envs/tensorflow/lib/python3.6/site-packages/keras/backend/tensorflow_backend.py\u001b[0m in \u001b[0;36m__call__\u001b[0;34m(self, inputs)\u001b[0m\n\u001b[1;32m   2713\u001b[0m                 \u001b[0;32mreturn\u001b[0m \u001b[0mself\u001b[0m\u001b[0;34m.\u001b[0m\u001b[0m_legacy_call\u001b[0m\u001b[0;34m(\u001b[0m\u001b[0minputs\u001b[0m\u001b[0;34m)\u001b[0m\u001b[0;34m\u001b[0m\u001b[0;34m\u001b[0m\u001b[0m\n\u001b[1;32m   2714\u001b[0m \u001b[0;34m\u001b[0m\u001b[0m\n\u001b[0;32m-> 2715\u001b[0;31m             \u001b[0;32mreturn\u001b[0m \u001b[0mself\u001b[0m\u001b[0;34m.\u001b[0m\u001b[0m_call\u001b[0m\u001b[0;34m(\u001b[0m\u001b[0minputs\u001b[0m\u001b[0;34m)\u001b[0m\u001b[0;34m\u001b[0m\u001b[0;34m\u001b[0m\u001b[0m\n\u001b[0m\u001b[1;32m   2716\u001b[0m         \u001b[0;32melse\u001b[0m\u001b[0;34m:\u001b[0m\u001b[0;34m\u001b[0m\u001b[0;34m\u001b[0m\u001b[0m\n\u001b[1;32m   2717\u001b[0m             \u001b[0;32mif\u001b[0m \u001b[0mpy_any\u001b[0m\u001b[0;34m(\u001b[0m\u001b[0mis_tensor\u001b[0m\u001b[0;34m(\u001b[0m\u001b[0mx\u001b[0m\u001b[0;34m)\u001b[0m \u001b[0;32mfor\u001b[0m \u001b[0mx\u001b[0m \u001b[0;32min\u001b[0m \u001b[0minputs\u001b[0m\u001b[0;34m)\u001b[0m\u001b[0;34m:\u001b[0m\u001b[0;34m\u001b[0m\u001b[0;34m\u001b[0m\u001b[0m\n",
      "\u001b[0;32m~/anaconda3/envs/tensorflow/lib/python3.6/site-packages/keras/backend/tensorflow_backend.py\u001b[0m in \u001b[0;36m_call\u001b[0;34m(self, inputs)\u001b[0m\n\u001b[1;32m   2673\u001b[0m             \u001b[0mfetched\u001b[0m \u001b[0;34m=\u001b[0m \u001b[0mself\u001b[0m\u001b[0;34m.\u001b[0m\u001b[0m_callable_fn\u001b[0m\u001b[0;34m(\u001b[0m\u001b[0;34m*\u001b[0m\u001b[0marray_vals\u001b[0m\u001b[0;34m,\u001b[0m \u001b[0mrun_metadata\u001b[0m\u001b[0;34m=\u001b[0m\u001b[0mself\u001b[0m\u001b[0;34m.\u001b[0m\u001b[0mrun_metadata\u001b[0m\u001b[0;34m)\u001b[0m\u001b[0;34m\u001b[0m\u001b[0;34m\u001b[0m\u001b[0m\n\u001b[1;32m   2674\u001b[0m         \u001b[0;32melse\u001b[0m\u001b[0;34m:\u001b[0m\u001b[0;34m\u001b[0m\u001b[0;34m\u001b[0m\u001b[0m\n\u001b[0;32m-> 2675\u001b[0;31m             \u001b[0mfetched\u001b[0m \u001b[0;34m=\u001b[0m \u001b[0mself\u001b[0m\u001b[0;34m.\u001b[0m\u001b[0m_callable_fn\u001b[0m\u001b[0;34m(\u001b[0m\u001b[0;34m*\u001b[0m\u001b[0marray_vals\u001b[0m\u001b[0;34m)\u001b[0m\u001b[0;34m\u001b[0m\u001b[0;34m\u001b[0m\u001b[0m\n\u001b[0m\u001b[1;32m   2676\u001b[0m         \u001b[0;32mreturn\u001b[0m \u001b[0mfetched\u001b[0m\u001b[0;34m[\u001b[0m\u001b[0;34m:\u001b[0m\u001b[0mlen\u001b[0m\u001b[0;34m(\u001b[0m\u001b[0mself\u001b[0m\u001b[0;34m.\u001b[0m\u001b[0moutputs\u001b[0m\u001b[0;34m)\u001b[0m\u001b[0;34m]\u001b[0m\u001b[0;34m\u001b[0m\u001b[0;34m\u001b[0m\u001b[0m\n\u001b[1;32m   2677\u001b[0m \u001b[0;34m\u001b[0m\u001b[0m\n",
      "\u001b[0;32m~/anaconda3/envs/tensorflow/lib/python3.6/site-packages/tensorflow/python/client/session.py\u001b[0m in \u001b[0;36m__call__\u001b[0;34m(self, *args, **kwargs)\u001b[0m\n\u001b[1;32m   1437\u001b[0m           ret = tf_session.TF_SessionRunCallable(\n\u001b[1;32m   1438\u001b[0m               \u001b[0mself\u001b[0m\u001b[0;34m.\u001b[0m\u001b[0m_session\u001b[0m\u001b[0;34m.\u001b[0m\u001b[0m_session\u001b[0m\u001b[0;34m,\u001b[0m \u001b[0mself\u001b[0m\u001b[0;34m.\u001b[0m\u001b[0m_handle\u001b[0m\u001b[0;34m,\u001b[0m \u001b[0margs\u001b[0m\u001b[0;34m,\u001b[0m \u001b[0mstatus\u001b[0m\u001b[0;34m,\u001b[0m\u001b[0;34m\u001b[0m\u001b[0;34m\u001b[0m\u001b[0m\n\u001b[0;32m-> 1439\u001b[0;31m               run_metadata_ptr)\n\u001b[0m\u001b[1;32m   1440\u001b[0m         \u001b[0;32mif\u001b[0m \u001b[0mrun_metadata\u001b[0m\u001b[0;34m:\u001b[0m\u001b[0;34m\u001b[0m\u001b[0;34m\u001b[0m\u001b[0m\n\u001b[1;32m   1441\u001b[0m           \u001b[0mproto_data\u001b[0m \u001b[0;34m=\u001b[0m \u001b[0mtf_session\u001b[0m\u001b[0;34m.\u001b[0m\u001b[0mTF_GetBuffer\u001b[0m\u001b[0;34m(\u001b[0m\u001b[0mrun_metadata_ptr\u001b[0m\u001b[0;34m)\u001b[0m\u001b[0;34m\u001b[0m\u001b[0;34m\u001b[0m\u001b[0m\n",
      "\u001b[0;31mKeyboardInterrupt\u001b[0m: "
     ]
    }
   ],
   "source": [
    "from keras.callbacks import ModelCheckpoint\n",
    "\n",
    "model_cb = ModelCheckpoint('output/lstm-{epoch:d}-{val_loss:.3f}.hdf', monitor='val_loss', verbose=0, save_best_only=False, save_weights_only=False, mode='auto', period=10)\n",
    "history = autoencoder.fit(training_set, training_set, epochs=10, validation_split=0.1, callbacks=[model_cb])"
   ]
  },
  {
   "cell_type": "code",
   "execution_count": 67,
   "metadata": {},
   "outputs": [
    {
     "name": "stdout",
     "output_type": "stream",
     "text": [
      "(32, 880)\n",
      "(40, 80, 32)\n"
     ]
    }
   ],
   "source": [
    "batch_size = 10\n",
    "batch_input = sample_chunk(samples, power, position=0, size=CHUNK_SIZE * (batch_size + 1))\n",
    "print(batch_input.shape)\n",
    "\n",
    "stride = SEQ_LEN // 4 \n",
    "\n",
    "batch = np.array([batch_input[:, i * stride : i * stride + SEQ_LEN].T for i in range(batch_size * 4)])\n",
    "print(batch.shape)\n",
    "prediction = autoencoder.predict(batch)\n",
    "\n",
    "batch_output = None\n",
    "for i, chunk in enumerate(prediction):            \n",
    "    if batch_output is None:        \n",
    "        batch_output = np.array(chunk[: stride + 10])\n",
    "    else:                \n",
    "        batch_output = np.concatenate((batch_output, chunk[10 : stride + 10]))"
   ]
  },
  {
   "cell_type": "code",
   "execution_count": 72,
   "metadata": {},
   "outputs": [
    {
     "data": {
      "image/png": "[encoded data removed]",
      "text/plain": [
       "<Figure size 432x288 with 1 Axes>"
      ]
     },
     "metadata": {
      "needs_background": "light"
     },
     "output_type": "display_data"
    },
    {
     "data": {
      "text/plain": [
       "<Figure size 432x288 with 0 Axes>"
      ]
     },
     "metadata": {},
     "output_type": "display_data"
    }
   ],
   "source": [
    "# plot the loss\n",
    "plt.plot(history.history['loss'])\n",
    "plt.plot(history.history['val_loss'])\n",
    "plt.title('Model Loss')\n",
    "plt.ylabel('loss')\n",
    "plt.xlabel('epoch')\n",
    "plt.show()\n",
    "plt.savefig('model_loss.png')"
   ]
  },
  {
   "cell_type": "code",
   "execution_count": 73,
   "metadata": {},
   "outputs": [
    {
     "data": {
      "text/plain": [
       "(810, 32)"
      ]
     },
     "execution_count": 73,
     "metadata": {},
     "output_type": "execute_result"
    }
   ],
   "source": [
    "batch_output.shape"
   ]
  },
  {
   "cell_type": "code",
   "execution_count": null,
   "metadata": {},
   "outputs": [],
   "source": []
  }
 ],
 "metadata": {
  "kernelspec": {
   "display_name": "Python 3",
   "language": "python",
   "name": "python3"
  },
  "language_info": {
   "codemirror_mode": {
    "name": "ipython",
    "version": 3
   },
   "file_extension": ".py",
   "mimetype": "text/x-python",
   "name": "python",
   "nbconvert_exporter": "python",
   "pygments_lexer": "ipython3",
   "version": "3.6.8"
  }
 },
 "nbformat": 4,
 "nbformat_minor": 2
}
